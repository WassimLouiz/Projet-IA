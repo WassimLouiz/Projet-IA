{
 "cells": [
  {
   "cell_type": "markdown",
   "metadata": {},
   "source": [
    "## Dashboard"
   ]
  },
  {
   "cell_type": "markdown",
   "metadata": {},
   "source": [
    "### Install all dependencies"
   ]
  },
  {
   "cell_type": "code",
   "execution_count": 1,
   "metadata": {},
   "outputs": [
    {
     "name": "stdout",
     "output_type": "stream",
     "text": [
      "Requirement already satisfied: pandas in d:\\anaconda3\\lib\\site-packages (1.3.4)\n",
      "Requirement already satisfied: python-dateutil>=2.7.3 in d:\\anaconda3\\lib\\site-packages (from pandas) (2.8.1)\n",
      "Requirement already satisfied: pytz>=2017.3 in d:\\anaconda3\\lib\\site-packages (from pandas) (2020.1)\n",
      "Requirement already satisfied: numpy>=1.17.3; platform_machine != \"aarch64\" and platform_machine != \"arm64\" and python_version < \"3.10\" in d:\\anaconda3\\lib\\site-packages (from pandas) (1.21.4)\n",
      "Requirement already satisfied: six>=1.5 in d:\\anaconda3\\lib\\site-packages (from python-dateutil>=2.7.3->pandas) (1.15.0)\n",
      "Requirement already satisfied: plotly in d:\\anaconda3\\lib\\site-packages (5.2.1)\n",
      "Requirement already satisfied: tenacity>=6.2.0 in d:\\anaconda3\\lib\\site-packages (from plotly) (8.0.1)\n",
      "Requirement already satisfied: six in d:\\anaconda3\\lib\\site-packages (from plotly) (1.15.0)\n",
      "Requirement already satisfied: dash in d:\\anaconda3\\lib\\site-packages (2.0.0)\n",
      "Requirement already satisfied: dash-table==5.0.0 in d:\\anaconda3\\lib\\site-packages (from dash) (5.0.0)\n",
      "Requirement already satisfied: flask-compress in d:\\anaconda3\\lib\\site-packages (from dash) (1.10.1)\n",
      "Requirement already satisfied: dash-core-components==2.0.0 in d:\\anaconda3\\lib\\site-packages (from dash) (2.0.0)\n",
      "Requirement already satisfied: dash-html-components==2.0.0 in d:\\anaconda3\\lib\\site-packages (from dash) (2.0.0)\n",
      "Requirement already satisfied: plotly>=5.0.0 in d:\\anaconda3\\lib\\site-packages (from dash) (5.2.1)\n",
      "Requirement already satisfied: Flask>=1.0.4 in d:\\anaconda3\\lib\\site-packages (from dash) (1.1.2)\n",
      "Requirement already satisfied: brotli in d:\\anaconda3\\lib\\site-packages (from flask-compress->dash) (1.0.9)\n",
      "Requirement already satisfied: six in d:\\anaconda3\\lib\\site-packages (from plotly>=5.0.0->dash) (1.15.0)\n",
      "Requirement already satisfied: tenacity>=6.2.0 in d:\\anaconda3\\lib\\site-packages (from plotly>=5.0.0->dash) (8.0.1)\n",
      "Requirement already satisfied: Jinja2>=2.10.1 in d:\\anaconda3\\lib\\site-packages (from Flask>=1.0.4->dash) (2.11.2)\n",
      "Requirement already satisfied: itsdangerous>=0.24 in d:\\anaconda3\\lib\\site-packages (from Flask>=1.0.4->dash) (1.1.0)\n",
      "Requirement already satisfied: Werkzeug>=0.15 in d:\\anaconda3\\lib\\site-packages (from Flask>=1.0.4->dash) (1.0.1)\n",
      "Requirement already satisfied: click>=5.1 in d:\\anaconda3\\lib\\site-packages (from Flask>=1.0.4->dash) (7.1.2)\n",
      "Requirement already satisfied: MarkupSafe>=0.23 in d:\\anaconda3\\lib\\site-packages (from Jinja2>=2.10.1->Flask>=1.0.4->dash) (1.1.1)\n",
      "Requirement already satisfied: dash_bootstrap_components in d:\\anaconda3\\lib\\site-packages (1.0.2)\n",
      "Requirement already satisfied: dash>=2.0.0 in d:\\anaconda3\\lib\\site-packages (from dash_bootstrap_components) (2.0.0)\n",
      "Requirement already satisfied: plotly>=5.0.0 in d:\\anaconda3\\lib\\site-packages (from dash>=2.0.0->dash_bootstrap_components) (5.2.1)\n",
      "Requirement already satisfied: dash-table==5.0.0 in d:\\anaconda3\\lib\\site-packages (from dash>=2.0.0->dash_bootstrap_components) (5.0.0)\n",
      "Requirement already satisfied: dash-core-components==2.0.0 in d:\\anaconda3\\lib\\site-packages (from dash>=2.0.0->dash_bootstrap_components) (2.0.0)\n",
      "Requirement already satisfied: dash-html-components==2.0.0 in d:\\anaconda3\\lib\\site-packages (from dash>=2.0.0->dash_bootstrap_components) (2.0.0)\n",
      "Requirement already satisfied: Flask>=1.0.4 in d:\\anaconda3\\lib\\site-packages (from dash>=2.0.0->dash_bootstrap_components) (1.1.2)\n",
      "Requirement already satisfied: flask-compress in d:\\anaconda3\\lib\\site-packages (from dash>=2.0.0->dash_bootstrap_components) (1.10.1)\n",
      "Requirement already satisfied: six in d:\\anaconda3\\lib\\site-packages (from plotly>=5.0.0->dash>=2.0.0->dash_bootstrap_components) (1.15.0)\n",
      "Requirement already satisfied: tenacity>=6.2.0 in d:\\anaconda3\\lib\\site-packages (from plotly>=5.0.0->dash>=2.0.0->dash_bootstrap_components) (8.0.1)\n",
      "Requirement already satisfied: Jinja2>=2.10.1 in d:\\anaconda3\\lib\\site-packages (from Flask>=1.0.4->dash>=2.0.0->dash_bootstrap_components) (2.11.2)\n",
      "Requirement already satisfied: Werkzeug>=0.15 in d:\\anaconda3\\lib\\site-packages (from Flask>=1.0.4->dash>=2.0.0->dash_bootstrap_components) (1.0.1)\n",
      "Requirement already satisfied: itsdangerous>=0.24 in d:\\anaconda3\\lib\\site-packages (from Flask>=1.0.4->dash>=2.0.0->dash_bootstrap_components) (1.1.0)\n",
      "Requirement already satisfied: click>=5.1 in d:\\anaconda3\\lib\\site-packages (from Flask>=1.0.4->dash>=2.0.0->dash_bootstrap_components) (7.1.2)\n",
      "Requirement already satisfied: brotli in d:\\anaconda3\\lib\\site-packages (from flask-compress->dash>=2.0.0->dash_bootstrap_components) (1.0.9)\n",
      "Requirement already satisfied: MarkupSafe>=0.23 in d:\\anaconda3\\lib\\site-packages (from Jinja2>=2.10.1->Flask>=1.0.4->dash>=2.0.0->dash_bootstrap_components) (1.1.1)\n"
     ]
    }
   ],
   "source": [
    "!pip install pandas\n",
    "!pip install plotly\n",
    "!pip install dash\n",
    "!pip install dash_bootstrap_components"
   ]
  },
  {
   "cell_type": "code",
   "execution_count": 1,
   "metadata": {},
   "outputs": [],
   "source": [
    "import pandas as pd\n",
    "pd.set_option('max_rows',20)\n",
    "import plotly.express as px\n",
    "import plotly.io as pio\n",
    "pio.renderers.default = \"browser\""
   ]
  },
  {
   "cell_type": "code",
   "execution_count": 2,
   "metadata": {},
   "outputs": [
    {
     "name": "stderr",
     "output_type": "stream",
     "text": [
      "<ipython-input-2-91f9bae444a8>:3: UserWarning:\n",
      "\n",
      "\n",
      "The dash_core_components package is deprecated. Please replace\n",
      "`import dash_core_components as dcc` with `from dash import dcc`\n",
      "\n",
      "<ipython-input-2-91f9bae444a8>:4: UserWarning:\n",
      "\n",
      "\n",
      "The dash_html_components package is deprecated. Please replace\n",
      "`import dash_html_components as html` with `from dash import html`\n",
      "\n"
     ]
    }
   ],
   "source": [
    "import dash\n",
    "from dash.dependencies import Input, Output\n",
    "import dash_core_components as dcc\n",
    "import dash_html_components as html\n",
    "import dash_bootstrap_components as dbc\n",
    "import pandas\n"
   ]
  },
  {
   "cell_type": "code",
   "execution_count": 3,
   "metadata": {},
   "outputs": [],
   "source": [
    "# load the csv file that we saved\n",
    "Main_Data = pd.read_csv(\"Saved_Date\")"
   ]
  },
  {
   "cell_type": "code",
   "execution_count": 4,
   "metadata": {},
   "outputs": [],
   "source": [
    "# Create new fields\n",
    "Main_Data[\"Year\"]=pd.to_datetime(Main_Data[\"Date\"].str[-4:])\n",
    "Main_Data[\"Month\"]=pd.to_datetime(Main_Data[\"Date\"].str[3:])\n",
    "Main_Data[\"Date_new\"] = pd.to_datetime(Main_Data[\"Date\"])\n",
    "Main_Data[\"Sum\"]=1"
   ]
  },
  {
   "cell_type": "code",
   "execution_count": 5,
   "metadata": {},
   "outputs": [],
   "source": [
    "# Create a function that groups the data by the date and determine the number of customer that day\n",
    "def group_by_date():\n",
    "    df = pandas.DataFrame(Main_Data.groupby([\"Date_new\"]).sum()[\"Sum\"])\n",
    "    return df"
   ]
  },
  {
   "cell_type": "code",
   "execution_count": 6,
   "metadata": {},
   "outputs": [],
   "source": [
    "# Create a function that groups the data by the Month and determine the number of customer that Month\n",
    "def group_by_Month():\n",
    "    df = pandas.DataFrame(Main_Data.groupby([\"Month\"]).sum()[\"Sum\"])\n",
    "    return df"
   ]
  },
  {
   "cell_type": "code",
   "execution_count": 7,
   "metadata": {},
   "outputs": [],
   "source": [
    "# Create a function that groups the data by the Year and determine the number of customer that Year\n",
    "def group_by_Year():\n",
    "    df = pandas.DataFrame(Main_Data.groupby([\"Year\"]).sum()[\"Sum\"])\n",
    "    return df"
   ]
  },
  {
   "cell_type": "code",
   "execution_count": 8,
   "metadata": {},
   "outputs": [],
   "source": [
    "# Create a function that groups the data by the Age and determine the number of customer \n",
    "def group_by_Age():\n",
    "    df = pandas.DataFrame(Main_Data.groupby([\"Age\"]).sum()[\"Sum\"])\n",
    "    return df"
   ]
  },
  {
   "cell_type": "code",
   "execution_count": 9,
   "metadata": {},
   "outputs": [],
   "source": [
    "# Create a function that groups the data by the Gender and determine the number of customer that day\n",
    "def group_by_Gender():\n",
    "    df = pandas.DataFrame(Main_Data.groupby([\"Gender\"]).sum()[\"Sum\"])\n",
    "    return df"
   ]
  },
  {
   "cell_type": "code",
   "execution_count": 10,
   "metadata": {},
   "outputs": [],
   "source": [
    "def group_by_Age_Month():\n",
    "    return Main_Data.groupby([\"Month\",\"Age\"]).sum()[\"Sum\"]"
   ]
  },
  {
   "cell_type": "code",
   "execution_count": 11,
   "metadata": {},
   "outputs": [],
   "source": [
    "def group_by_Gender_Month():\n",
    "    return Main_Data.groupby([\"Month\",\"Gender\"]).sum()[\"Sum\"]"
   ]
  },
  {
   "cell_type": "markdown",
   "metadata": {},
   "source": [
    "### Generate Line Graph using Plotly"
   ]
  },
  {
   "cell_type": "code",
   "execution_count": 12,
   "metadata": {},
   "outputs": [],
   "source": [
    "# Create a function that display a line figure  \n",
    "def fig_Line(df,col,date):\n",
    "    fig = px.line(df, y=col, x=df.index, title='{} Customer flow'.format(date),height=600,color_discrete_sequence =['maroon'])\n",
    "    fig.update_layout(title_x=0.5,plot_bgcolor='#F2DFCE',paper_bgcolor='#F2DFCE',xaxis_title=\"Date\",yaxis_title='Customer Flow')\n",
    "    return fig"
   ]
  },
  {
   "cell_type": "markdown",
   "metadata": {},
   "source": [
    "### Generate Pie Graph using Plotly"
   ]
  },
  {
   "cell_type": "code",
   "execution_count": 13,
   "metadata": {},
   "outputs": [],
   "source": [
    "# Create a function that display a Pie figure  \n",
    "\n",
    "def fig_pie(df,col):\n",
    "    fig = px.pie(df, values=col,\n",
    "         names=df.index,\n",
    "         labels=['Female','Male'],\n",
    "         title='Gender Repartition',\n",
    "         color=df.index,color_discrete_map={'Female':'indianred',\n",
    "                             'Male':'mediumseagreen'})\n",
    "    fig.update_traces(textposition='inside', textinfo='percent+label',\n",
    "                    textfont_size=10,showlegend=True,\n",
    "                    insidetextorientation='horizontal')\n",
    "    fig.update_layout(title_x=0.5)\n",
    "    return fig"
   ]
  },
  {
   "cell_type": "markdown",
   "metadata": {},
   "source": [
    "### Generate bar Graph using Plotly"
   ]
  },
  {
   "cell_type": "code",
   "execution_count": 14,
   "metadata": {},
   "outputs": [],
   "source": [
    "# Create a function that display a Bar figure  \n",
    "\n",
    "def fig_Bar(df,title):\n",
    "    fig = px.bar(df,title='{}'.format(title))\n",
    "    fig.update_layout(title_x=0.5)\n",
    "\n",
    "    return fig"
   ]
  },
  {
   "cell_type": "code",
   "execution_count": 15,
   "metadata": {},
   "outputs": [],
   "source": [
    "# Create a function that display a Composed_Bar figure  \n",
    "\n",
    "def Composed_Bar(df):\n",
    "    fig = px.bar(df, color=\"Age\")\n",
    "    return fig"
   ]
  },
  {
   "cell_type": "code",
   "execution_count": 16,
   "metadata": {},
   "outputs": [],
   "source": [
    "# Create a function that display a fig_Bar_Bar figure  \n",
    "\n",
    "def fig_Bar_Bar(df):\n",
    "    fig = px.bar(df, \n",
    "             color='Gender', barmode='group',\n",
    "             height=400)\n",
    "    fig.show()    \n",
    "    return fig"
   ]
  },
  {
   "cell_type": "markdown",
   "metadata": {},
   "source": [
    "## DashBoard APP"
   ]
  },
  {
   "cell_type": "code",
   "execution_count": 17,
   "metadata": {},
   "outputs": [],
   "source": [
    "external_stylesheets = [dbc.themes.BOOTSTRAP]"
   ]
  },
  {
   "cell_type": "code",
   "execution_count": 18,
   "metadata": {},
   "outputs": [],
   "source": [
    "app = dash.Dash(__name__, external_stylesheets=external_stylesheets)\n",
    "app.title = 'Customer Flow'"
   ]
  },
  {
   "cell_type": "markdown",
   "metadata": {},
   "source": [
    "### Page Header"
   ]
  },
  {
   "cell_type": "code",
   "execution_count": 19,
   "metadata": {},
   "outputs": [],
   "source": [
    "# put the styling in place\n",
    "colors = {\n",
    "    'background': '#111111',\n",
    "    'bodyColor':'#F2DFCE',\n",
    "    'text': '#7FDBFF'\n",
    "}\n",
    "def get_page_heading_style():\n",
    "    return {'backgroundColor': colors['background']}\n",
    "\n",
    "\n",
    "def get_page_heading_title():\n",
    "    return html.H1(children='Customer_Flow Dashbord',\n",
    "                                        style={\n",
    "                                        'textAlign': 'center',\n",
    "                                        'color': colors['text']\n",
    "                                    })\n",
    "\n",
    "def get_page_heading_subtitle():\n",
    "    return html.Div(children='Visualize your customer flow',\n",
    "                                         style={\n",
    "                                             'textAlign':'center',\n",
    "                                             'color':colors['text']\n",
    "                                         })\n",
    "\n",
    "def generate_page_header():\n",
    "    main_header =  dbc.Row(\n",
    "                            [\n",
    "                                dbc.Col(get_page_heading_title(),md=12)\n",
    "                            ],\n",
    "                            align=\"center\",\n",
    "                            style=get_page_heading_style()\n",
    "                        )\n",
    "    subtitle_header = dbc.Row(\n",
    "                            [\n",
    "                                dbc.Col(get_page_heading_subtitle(),md=12)\n",
    "                            ],\n",
    "                            align=\"center\",\n",
    "                            style=get_page_heading_style()\n",
    "                        )\n",
    "    header = (main_header,subtitle_header)\n",
    "    return header"
   ]
  },
  {
   "cell_type": "markdown",
   "metadata": {},
   "source": [
    "### Graph Container for DASH"
   ]
  },
  {
   "cell_type": "code",
   "execution_count": 20,
   "metadata": {},
   "outputs": [],
   "source": [
    "# Create a function for the graph container\n",
    "\n",
    "def graph(i,fig):\n",
    "    return dcc.Graph(id='graph{}'.format(i),figure=fig)"
   ]
  },
  {
   "cell_type": "markdown",
   "metadata": {},
   "source": [
    "### Generate app layout"
   ]
  },
  {
   "cell_type": "code",
   "execution_count": 21,
   "metadata": {},
   "outputs": [],
   "source": [
    "def generate_layout():\n",
    "    page_header = generate_page_header()\n",
    "    layout = dbc.Container(\n",
    "        [\n",
    "            page_header[0],\n",
    "            page_header[1],\n",
    "            html.Hr(),\n",
    "    \n",
    "            dbc.Row(\n",
    "                [                \n",
    "                    \n",
    "                    dbc.Row(graph(1,fig_Line(group_by_date(),\"Sum\",\"Daily\"))),\n",
    "                    dbc.Row(graph(2,fig_Bar(group_by_Month(),\"Monthly Customer flow\")))\n",
    "                  \n",
    "                ]),\n",
    "                            html.Hr(),\n",
    "\n",
    "                 dbc.Row(\n",
    "                [                \n",
    "                    \n",
    "                    \n",
    "                    dbc.Row(graph(3,fig_Line(group_by_Year(),\"Sum\",\"Yearly\"))),\n",
    "                    dbc.Row(graph(5,fig_pie(group_by_Gender(),\"Sum\")))\n",
    "                   \n",
    "                  \n",
    "                ]),\n",
    "                                 html.Hr(),\n",
    "\n",
    "                  dbc.Row(\n",
    "                [ \n",
    "                    dbc.Row(graph(4,fig_Bar(group_by_Age(),\"Age Repartition\")))\n",
    "                ]),\n",
    "            \n",
    "                 ],fluid=True,style={'backgroundColor': colors['bodyColor']}\n",
    "    )\n",
    "    return layout"
   ]
  },
  {
   "cell_type": "code",
   "execution_count": 22,
   "metadata": {},
   "outputs": [],
   "source": [
    "app.layout = generate_layout()"
   ]
  },
  {
   "cell_type": "markdown",
   "metadata": {},
   "source": [
    "## RUN the app server"
   ]
  },
  {
   "cell_type": "code",
   "execution_count": null,
   "metadata": {
    "scrolled": true
   },
   "outputs": [
    {
     "name": "stdout",
     "output_type": "stream",
     "text": [
      "Dash is running on http://localhost:8050/\n",
      "\n",
      " * Serving Flask app \"__main__\" (lazy loading)\n",
      " * Environment: production\n",
      "   WARNING: This is a development server. Do not use it in a production deployment.\n",
      "   Use a production WSGI server instead.\n",
      " * Debug mode: off\n"
     ]
    },
    {
     "name": "stderr",
     "output_type": "stream",
     "text": [
      " * Running on http://localhost:8050/ (Press CTRL+C to quit)\n",
      "127.0.0.1 - - [16/Dec/2021 22:48:19] \"\u001b[37mGET / HTTP/1.1\u001b[0m\" 200 -\n",
      "127.0.0.1 - - [16/Dec/2021 22:48:25] \"\u001b[37mGET /_dash-dependencies HTTP/1.1\u001b[0m\" 200 -\n",
      "127.0.0.1 - - [16/Dec/2021 22:48:25] \"\u001b[37mGET /_dash-layout HTTP/1.1\u001b[0m\" 200 -\n",
      "127.0.0.1 - - [16/Dec/2021 22:48:26] \"\u001b[37mGET /_dash-component-suites/dash/dcc/async-plotlyjs.js HTTP/1.1\u001b[0m\" 200 -\n",
      "127.0.0.1 - - [16/Dec/2021 22:48:26] \"\u001b[37mGET /_dash-component-suites/dash/dcc/async-graph.js HTTP/1.1\u001b[0m\" 200 -\n"
     ]
    }
   ],
   "source": [
    "app.run_server(host= 'localhost',debug=False)"
   ]
  }
 ],
 "metadata": {
  "kernelspec": {
   "display_name": "Python 3",
   "language": "python",
   "name": "python3"
  },
  "language_info": {
   "codemirror_mode": {
    "name": "ipython",
    "version": 3
   },
   "file_extension": ".py",
   "mimetype": "text/x-python",
   "name": "python",
   "nbconvert_exporter": "python",
   "pygments_lexer": "ipython3",
   "version": "3.8.5"
  }
 },
 "nbformat": 4,
 "nbformat_minor": 5
}
